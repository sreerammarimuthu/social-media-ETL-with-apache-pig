{
 "cells": [
  {
   "cell_type": "code",
   "execution_count": null,
   "id": "3467baec",
   "metadata": {},
   "outputs": [
    {
     "data": {
      "text/plain": [
       "28294513.7"
      ]
     },
     "execution_count": 3,
     "metadata": {},
     "output_type": "execute_result"
    }
   ],
   "source": [
    "import time\n",
    "\n",
    "# Current timestamp in seconds\n",
    "current_timestamp = int(time.time())/60\n",
    "current_timestamp"
   ]
  },
  {
   "cell_type": "code",
   "execution_count": null,
   "id": "38e809ed",
   "metadata": {},
   "outputs": [],
   "source": [
    "# Calculate the timestamp representing 90 days ago in seconds\n",
    "ninety_days_ago = 90 * 24 * 60\n",
    "difference=current_timestamp-ninety_days_ago\n",
    "\n",
    "with open('ninety_days_ago_timestamp.txt', 'w') as file:\n",
    "    file.write(str(difference))"
   ]
  }
 ],
 "metadata": {
  "kernelspec": {
   "display_name": "Python 3 (ipykernel)",
   "language": "python",
   "name": "python3"
  },
  "language_info": {
   "codemirror_mode": {
    "name": "ipython",
    "version": 3
   },
   "file_extension": ".py",
   "mimetype": "text/x-python",
   "name": "python",
   "nbconvert_exporter": "python",
   "pygments_lexer": "ipython3",
   "version": "3.11.4"
  }
 },
 "nbformat": 4,
 "nbformat_minor": 5
}
