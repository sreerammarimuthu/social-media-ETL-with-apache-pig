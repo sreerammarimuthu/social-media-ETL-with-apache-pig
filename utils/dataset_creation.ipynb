{
 "cells": [
  {
   "cell_type": "code",
   "execution_count": null,
   "id": "33276d17",
   "metadata": {},
   "outputs": [],
   "source": [
    "import csv\n",
    "import random\n",
    "from faker import Faker\n",
    "fake = Faker()\n",
    "\n",
    "# Random Number Generator\n",
    "def random_number(min_num, max_num):\n",
    "    return random.randint(min_num, max_num)"
   ]
  },
  {
   "cell_type": "code",
   "execution_count": null,
   "id": "ed4ab4f1",
   "metadata": {},
   "outputs": [],
   "source": [
    "# Generate FaceInPage data\n",
    "def generate_facein_page_data(num_records):\n",
    "    facein_page_data = []\n",
    "    for ID in range(1, num_records + 1):\n",
    "        Name = fake.name()\n",
    "        Nationality = fake.country()\n",
    "        CountryCod = random_number(1, 50)\n",
    "        Hobby =fake.random_element(elements=('Reading', 'Swimming', 'Traveling','Numismatics','Boxing','Photography','Day Dreaming','Watching Movies & Anime','Playing Football'))\n",
    "        facein_page_data.append([ID, Name, Nationality, CountryCod, Hobby])\n",
    "    return facein_page_data"
   ]
  },
  {
   "cell_type": "code",
   "execution_count": null,
   "id": "6bf893e2",
   "metadata": {},
   "outputs": [],
   "source": [
    "# Generate Associates data\n",
    "def generate_associates_data(num_records, max_friend_rel):\n",
    "    associates_data = []\n",
    "    existing_relationships = set()\n",
    "\n",
    "    FriendRel = 1\n",
    "    for i in range(1, num_records + 1):\n",
    "        owner_id = i\n",
    "        for j in range(i + 1, num_records + 1):\n",
    "            if FriendRel > max_friend_rel:\n",
    "                break\n",
    "\n",
    "            PersonA_ID = owner_id\n",
    "            PersonB_ID = j\n",
    "            if PersonA_ID != PersonB_ID and (PersonA_ID, PersonB_ID) not in existing_relationships:\n",
    "                existing_relationships.add((PersonA_ID, PersonB_ID))\n",
    "                existing_relationships.add((PersonA_ID, PersonB_ID))\n",
    "\n",
    "                DateofFriendship = random_number(1, 1000000)\n",
    "                Desc = fake.random_element(elements=('Fiance','Best Friend','Professor','Colleague','College-Friend', 'Family','Friend', 'Other'))\n",
    "                associates_data.append([FriendRel, PersonA_ID, PersonB_ID, DateofFriendship, Desc])\n",
    "            FriendRel += 1\n",
    "\n",
    "    return associates_data"
   ]
  },
  {
   "cell_type": "code",
   "execution_count": null,
   "id": "3f2b7197",
   "metadata": {},
   "outputs": [],
   "source": [
    "# Generate AccessLogs data\n",
    "def generate_access_logs_data(num_records):\n",
    "    access_logs_data = []\n",
    "    for AccessID in range(1, num_records + 1):\n",
    "        ByWho = random_number(1, 200000)\n",
    "        WhatPage = random_number(1, 200000)\n",
    "        TypeOfAccess = fake.random_element(elements=('Poked','Viewed', 'Wrote on Timeline','Sent a Message', 'Added a Friendship', 'Other'))\n",
    "        AccessTime = random_number(1, 1000000)\n",
    "\n",
    "        access_logs_data.append([AccessID, ByWho, WhatPage, TypeOfAccess, AccessTime])\n",
    "\n",
    "    return access_logs_data"
   ]
  },
  {
   "cell_type": "code",
   "execution_count": null,
   "id": "839c0b9c",
   "metadata": {},
   "outputs": [],
   "source": [
    "# Record limits\n",
    "num_facein_page_records = 200000\n",
    "num_associates_records = 20000000\n",
    "num_access_logs_records = 10000000\n",
    "\n",
    "# Data Generation\n",
    "facein_page_data = generate_facein_page_data(num_facein_page_records)\n",
    "associates_data = generate_associates_data(num_facein_page_records, num_associates_records)\n",
    "access_logs_data = generate_access_logs_data(num_access_logs_records)\n",
    "                                           \n",
    "facein_page_data.insert(0, ['ID', 'Name', 'Nationality', 'CountryCod', 'Hobby'])\n",
    "associates_data.insert(0, ['FriendRel', 'PersonA_ID', 'PersonB_ID', 'DateofFriendship', 'Desc'])\n",
    "access_logs_data.insert(0, ['AccessId', 'ByWho', 'WhatPage', 'TypeOfAccess', 'AccessTime'])\n",
    "\n",
    "def save_to_csv(data, filename):\n",
    "    with open(filename, mode=\"w\", newline=\"\") as file:\n",
    "        writer = csv.writer(file)\n",
    "        writer.writerows(data)\n",
    "                                           \n",
    "save_to_csv(facein_page_data, \"FaceInPage.csv\")\n",
    "save_to_csv(associates_data, \"Associates.csv\")\n",
    "save_to_csv(access_logs_data, \"AccessLogs.csv\")"
   ]
  },
  {
   "cell_type": "code",
   "execution_count": null,
   "id": "9d8bcca5",
   "metadata": {},
   "outputs": [
    {
     "name": "stdout",
     "output_type": "stream",
     "text": [
      "Total number of rows in 'FaceInPage.csv': 200000\n"
     ]
    }
   ],
   "source": [
    "csv_file_path = \"FaceInPage.csv\"\n",
    "row_count = 0\n",
    "\n",
    "with open(csv_file_path, mode=\"r\", newline=\"\") as file:\n",
    "    csv_reader = csv.reader(file)\n",
    "    next(csv_reader)  \n",
    "    for row in csv_reader:\n",
    "        row_count += 1\n",
    "\n",
    "print(f\"Total number of rows in '{csv_file_path}': {row_count}\")"
   ]
  },
  {
   "cell_type": "code",
   "execution_count": null,
   "id": "a04f4e8b",
   "metadata": {},
   "outputs": [
    {
     "name": "stdout",
     "output_type": "stream",
     "text": [
      "Total number of rows in 'Associates.csv': 20000000\n"
     ]
    }
   ],
   "source": [
    "csv_file_path = \"Associates.csv\"\n",
    "row_count = 0\n",
    "\n",
    "with open(csv_file_path, mode=\"r\", newline=\"\") as file:\n",
    "    csv_reader = csv.reader(file)\n",
    "    next(csv_reader)  \n",
    "    for row in csv_reader:\n",
    "        row_count += 1\n",
    "\n",
    "print(f\"Total number of rows in '{csv_file_path}': {row_count}\")"
   ]
  },
  {
   "cell_type": "code",
   "execution_count": null,
   "id": "a1c57ab0",
   "metadata": {},
   "outputs": [
    {
     "name": "stdout",
     "output_type": "stream",
     "text": [
      "Total number of rows in 'AccessLogs.csv': 10000000\n"
     ]
    }
   ],
   "source": [
    "csv_file_path = \"AccessLogs.csv\"\n",
    "row_count = 0\n",
    "\n",
    "with open(csv_file_path, mode=\"r\", newline=\"\") as file:\n",
    "    csv_reader = csv.reader(file)\n",
    "    next(csv_reader) \n",
    "    for row in csv_reader:\n",
    "        row_count += 1\n",
    "        \n",
    "print(f\"Total number of rows in '{csv_file_path}': {row_count}\")"
   ]
  }
 ],
 "metadata": {
  "kernelspec": {
   "display_name": "Python 3 (ipykernel)",
   "language": "python",
   "name": "python3"
  },
  "language_info": {
   "codemirror_mode": {
    "name": "ipython",
    "version": 3
   },
   "file_extension": ".py",
   "mimetype": "text/x-python",
   "name": "python",
   "nbconvert_exporter": "python",
   "pygments_lexer": "ipython3",
   "version": "3.11.4"
  }
 },
 "nbformat": 4,
 "nbformat_minor": 5
}
